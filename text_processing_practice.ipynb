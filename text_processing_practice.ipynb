{
 "cells": [
  {
   "cell_type": "markdown",
   "metadata": {},
   "source": [
    "<p> Sourced from DataCamp </p>"
   ]
  },
  {
   "cell_type": "markdown",
   "metadata": {},
   "source": [
    "# Text processing\n",
    "<p><img style=\"float: right ; margin: 5px 20px 5px 10px; width: 45%\" src=\"https://assets.datacamp.com/production/project_38/img/Moby_Dick_p510_illustration.jpg\"> </p>\n",
    "<p>What are the most frequent words in Herman Melville's novel, Moby Dick, and how often do they occur?</p>\n",
    "<p>In this notebook, we'll scrape the novel <em>Moby Dick</em> from the website <a href=\"https://www.gutenberg.org/\">Project Gutenberg</a> (which contains a large corpus of books) using the Python package <code>requests</code>. Then we'll extract words from this web data using <code>BeautifulSoup</code>. Finally, we'll dive into analyzing the distribution of words using the Natural Language ToolKit (<code>nltk</code>) and <code>Counter</code>.</p>\n",
    "<p>The <em>Data Science pipeline</em> we'll build in this notebook can be used to visualize the word frequency distributions of any novel that you can find on Project Gutenberg. The natural language processing tools used here apply to much of the data that data scientists encounter as a vast proportion of the world's data is unstructured data and includes a great deal of text.</p>\n",
    "<p>Let's start by loading in the three main Python packages we are going to use.</p>"
   ]
  },
  {
   "cell_type": "markdown",
   "metadata": {},
   "source": [
    "# IMPORTS"
   ]
  },
  {
   "cell_type": "code",
   "execution_count": 1,
   "metadata": {
    "ExecuteTime": {
     "end_time": "2021-09-18T14:46:55.023439Z",
     "start_time": "2021-09-18T14:46:52.724040Z"
    }
   },
   "outputs": [],
   "source": [
    "import requests\n",
    "from bs4 import BeautifulSoup\n",
    "import nltk\n",
    "from collections import Counter\n",
    "import pandas as pd\n",
    "import re\n",
    "from nltk.tokenize import RegexpTokenizer\n",
    "\n",
    "#Import datavis libraries\n",
    "import matplotlib.pyplot as plt\n",
    "try:\n",
    "    import seaborn as sns\n",
    "except:\n",
    "    !pip install seaborn --user\n",
    "    import seaborn as sns\n",
    "\n",
    "# Figures inline and set visualization style\n",
    "%matplotlib inline\n",
    "sns.set()"
   ]
  },
  {
   "cell_type": "markdown",
   "metadata": {},
   "source": [
    "# Request Moby Dick\n",
    "<p>To analyze Moby Dick, we need to get the contents of Moby Dick from <em>somewhere</em>. Luckily, the text is freely available online at Project Gutenberg as an HTML file: https://www.gutenberg.org/files/2701/2701-h/2701-h.htm .</p>"
   ]
  },
  {
   "cell_type": "code",
   "execution_count": 2,
   "metadata": {
    "ExecuteTime": {
     "end_time": "2021-09-18T14:46:55.511393Z",
     "start_time": "2021-09-18T14:46:55.026413Z"
    }
   },
   "outputs": [
    {
     "name": "stdout",
     "output_type": "stream",
     "text": [
      "<class 'requests.models.Response'>\n"
     ]
    }
   ],
   "source": [
    "# Getting the Moby Dick HTML \n",
    "r = requests.get('https://s3.amazonaws.com/assets.datacamp.com/production/project_147/datasets/2701-h.htm')\n",
    "print(type(r))"
   ]
  },
  {
   "cell_type": "code",
   "execution_count": 3,
   "metadata": {
    "ExecuteTime": {
     "end_time": "2021-09-18T14:46:55.526960Z",
     "start_time": "2021-09-18T14:46:55.513395Z"
    }
   },
   "outputs": [],
   "source": [
    "# Setting the correct text encoding of the HTML page\n",
    "r.encoding = 'utf-8'\n",
    "\n",
    "# Extracting the HTML from the request object\n",
    "html = r.text"
   ]
  },
  {
   "cell_type": "code",
   "execution_count": 4,
   "metadata": {
    "ExecuteTime": {
     "end_time": "2021-09-18T14:46:55.542967Z",
     "start_time": "2021-09-18T14:46:55.527968Z"
    }
   },
   "outputs": [
    {
     "data": {
      "text/plain": [
       "'<?xml version=\"1.0\" encoding=\"utf-8\"?>\\r\\n\\r\\n<!DOCTYPE html\\r\\n   PUBLIC \"-//W3C//DTD XHTML 1.0 Strict//EN\"\\r\\n   \"http://www.w3.org/TR/xhtml1/DTD/xhtml1-strict.dtd\" >\\r\\n\\r\\n<html xmlns=\"http://www.w3.org/1999/xhtml\" lang=\"en\">\\r\\n  <head>\\r\\n    <title>\\r\\n      Moby Dick; Or the Whale, by Herman Melville\\r\\n    </title>\\r\\n    <style type=\"text/css\" xml:space=\"preserve\">\\r\\n\\r\\n    body { background:#faebd0; color:black; margin-left:15%; margin-right:15%; text-align:justify }\\r\\n    P { text-indent: 1em; margin-top: .25em; margin-bottom: .25em; }\\r\\n    H1,H2,H3,H4,H5,H6 { text-align: center; margin-left: 15%; margin-right: 15%; }\\r\\n    hr  { width: 50%; text-align: center;}\\r\\n    .foot { margin-left: 20%; margin-right: 20%; text-align: justify; text-indent: -3em; font-size: 90%; }\\r\\n    blockquote {font-size: 100%; margin-left: 0%; margin-right: 0%;}\\r\\n    .mynote    {background-color: #DDE; color: #000; padding: .5em; margin-left: 10%; margin-right: 10%; font-family: sans-serif; font-size: 95%;}\\r\\n    .toc       { margin-left: 10%; margin-bottom: .75em;}\\r\\n    .toc2      { margin-left: 20%;}\\r\\n    div.fig    { display:block; margin:0 auto; text-align:center; }\\r\\n    div.middle { margin-left: 20%; margin-right: 20%; text-align: justify; }\\r\\n    .figleft   {float: left; margin-left: 0%; margin-right: 1%;}\\r\\n    .figright  {float: right; margin-right: 0%; margin-left: 1%;}\\r\\n    .pagenum   {display:inline; font-size: 70%; font-style:normal;\\r\\n               margin: 0; padding: 0; position: absolute; right: 1%;\\r\\n               text-align: right;}\\r\\n    pre        { font-family: times new roman; font-size: 100%; margin-left: 10%;}\\r\\n\\r\\n    table      {margin-left: 10%;}\\r\\n\\r\\na:link {color:blue;\\r\\n\\t\\ttext-decoration:none}\\r\\nlink {color:blue;\\r\\n\\t\\ttext-decoration:none}\\r\\na:visited {color:blue;\\r\\n\\t\\ttext-decoration:none}\\r\\na:hover {color:red}\\r\\n\\r\\n</style>\\r\\n  </head>\\r\\n  <body>\\r\\n<pre xml:space=\"preserve\">\\r\\n\\r\\nThe Project Gutenberg EBook of Moby Dick; or The Whale, by Herman Melville\\r\\n\\r\\nThis eBook is for the use of anyone anywh'"
      ]
     },
     "execution_count": 4,
     "metadata": {},
     "output_type": "execute_result"
    }
   ],
   "source": [
    "# Printing the first 2000 characters in html\n",
    "r.text[:2000]"
   ]
  },
  {
   "cell_type": "markdown",
   "metadata": {},
   "source": [
    "# Get the text from the HTML"
   ]
  },
  {
   "cell_type": "code",
   "execution_count": 5,
   "metadata": {
    "ExecuteTime": {
     "end_time": "2021-09-18T14:46:55.686966Z",
     "start_time": "2021-09-18T14:46:55.543960Z"
    }
   },
   "outputs": [
    {
     "name": "stdout",
     "output_type": "stream",
     "text": [
      "[<a href=\"#link2H_4_0002\"> ETYMOLOGY. </a>, <a href=\"#link2H_4_0003\"> EXTRACTS (Supplied by a Sub-Sub-Librarian).\r\n",
      "        </a>, <a href=\"#link2HCH0001\"> CHAPTER 1. Loomings. </a>, <a href=\"#link2HCH0002\"> CHAPTER 2. The Carpet-Bag. </a>, <a href=\"#link2HCH0003\"> CHAPTER 3. The Spouter-Inn. </a>, <a href=\"#link2HCH0004\"> CHAPTER 4. The Counterpane. </a>, <a href=\"#link2HCH0005\"> CHAPTER 5. Breakfast. </a>, <a href=\"#link2HCH0006\"> CHAPTER 6. The Street. </a>]\n"
     ]
    }
   ],
   "source": [
    "# Creating a BeautifulSoup object from the HTML\n",
    "soup = BeautifulSoup(html)\n",
    "\n",
    "# Get hyperlinks from soup and check out first several\n",
    "print(soup.findAll('a')[:8])"
   ]
  },
  {
   "cell_type": "code",
   "execution_count": 6,
   "metadata": {
    "ExecuteTime": {
     "end_time": "2021-09-18T14:46:55.702965Z",
     "start_time": "2021-09-18T14:46:55.688969Z"
    }
   },
   "outputs": [
    {
     "data": {
      "text/plain": [
       "'t me\\r\\n      from deliberately stepping into the street, and methodically knocking\\r\\n      people’s hats off—then, I account it high time to get to sea as soon\\r\\n      as I can. This is my substitute for pistol and ball. With a philosophical\\r\\n      flourish Cato throws himself upon his sword; I quietly take to the ship.\\r\\n      There is nothing surprising in this. If they but knew it, almost all men\\r\\n      in their degree, some time or other, cherish very nearly the same feelings\\r\\n      towards the ocean with me.\\r\\n    \\n\\r\\n      There now is your insular city of the Manhattoes, belted round by wharves\\r\\n      as Indian isles by coral reefs—commerce surrounds it with her surf.\\r\\n      Right and left, the streets take you waterward. Its extreme downtown is\\r\\n      the battery, where that noble mole is washed by waves, and cooled by\\r\\n      breezes, which a few hours previous were out of sight of land. Look at the\\r\\n      crowds of water-gazers there.\\r\\n    \\n\\r\\n      Circumambulate the city of a dreamy Sabbath afternoon. Go from Corlears\\r\\n      Hook to Coenties Slip, and from thence, by Whitehall, northward. What do\\r\\n      you see?—Posted like silent sentinels all around the town, stand\\r\\n      thousands upon thousands of mortal men fixed in ocean reveries. Some\\r\\n      leaning against the spiles; some seated upon the pier-heads; some looking\\r\\n      over the bulwarks of ships from China; some high aloft in the rigging, as\\r\\n      if striving to get a still better seaward peep. But these are all\\r\\n      landsmen; of week days pent up in lath and plaster—tied to counters,\\r\\n      nailed to benches, clinched to desks. How then is this? Are the green\\r\\n      fields gone? What do they here?\\r\\n    \\n\\r\\n      But look! here come more crowds, pacing straight for the water, and\\r\\n      seemingly bound for a dive. Strange! Nothing will content them but the\\r\\n      extremest limit of the land; loitering under the shady lee of yonder\\r\\n      warehouses will not suffice. No. They must get just as nigh the '"
      ]
     },
     "execution_count": 6,
     "metadata": {},
     "output_type": "execute_result"
    }
   ],
   "source": [
    "# Getting the text out of the soup\n",
    "text = soup.get_text()\n",
    "\n",
    "# Printing out text between characters 32000 and 34000\n",
    "text[32000 : 34000]"
   ]
  },
  {
   "cell_type": "markdown",
   "metadata": {},
   "source": [
    "# Processing text"
   ]
  },
  {
   "cell_type": "markdown",
   "metadata": {},
   "source": [
    "## Extract the words\n",
    "<p>We now have the text of the novel! There is some unwanted stuff at the start and some unwanted stuff at the end. We could remove it, but this content is so much smaller in amount than the text of Moby Dick that, to a first approximation, it is okay to leave it in.</p>\n",
    "<p>Now that we have the text of interest, it's time to count how many times each word appears, and for this we'll use <code>nltk</code> – the Natural Language Toolkit. We'll start by tokenizing the text, that is, remove everything that isn't a word (whitespace, punctuation, etc.) and then split the text into a list of words.</p>"
   ]
  },
  {
   "cell_type": "code",
   "execution_count": 7,
   "metadata": {
    "ExecuteTime": {
     "end_time": "2021-09-18T14:46:55.764987Z",
     "start_time": "2021-09-18T14:46:55.703959Z"
    }
   },
   "outputs": [
    {
     "data": {
      "text/plain": [
       "['Moby', 'Dick', 'Or', 'the', 'Whale', 'by', 'Herman', 'Melville']"
      ]
     },
     "execution_count": 7,
     "metadata": {},
     "output_type": "execute_result"
    }
   ],
   "source": [
    "# Creating a tokenizer\n",
    "tokenizer = RegexpTokenizer('\\w+')\n",
    "\n",
    "# Tokenizing the text\n",
    "tokens = tokenizer.tokenize(text)\n",
    "tokens[:8]"
   ]
  },
  {
   "cell_type": "markdown",
   "metadata": {},
   "source": [
    "## Make the words lowercase\n",
    "<p>OK! We're nearly there. Note that in the above 'Or' has a capital 'O' and that in other places it may not, but both 'Or' and 'or' should be counted as the same word. For this reason, we should build a list of all words in <em>Moby Dick</em> in which all capital letters have been made lower case.</p>"
   ]
  },
  {
   "cell_type": "code",
   "execution_count": 8,
   "metadata": {
    "ExecuteTime": {
     "end_time": "2021-09-18T14:46:55.810967Z",
     "start_time": "2021-09-18T14:46:55.766958Z"
    }
   },
   "outputs": [
    {
     "data": {
      "text/plain": [
       "['moby', 'dick', 'or', 'the', 'whale', 'by', 'herman', 'melville']"
      ]
     },
     "execution_count": 8,
     "metadata": {},
     "output_type": "execute_result"
    }
   ],
   "source": [
    "lowercase_words = []\n",
    "for word in tokens:\n",
    "    lowercase_words.append(word.lower())\n",
    "lowercase_words[:8]"
   ]
  },
  {
   "cell_type": "code",
   "execution_count": 9,
   "metadata": {
    "ExecuteTime": {
     "end_time": "2021-09-18T14:46:55.967004Z",
     "start_time": "2021-09-18T14:46:55.811959Z"
    }
   },
   "outputs": [
    {
     "name": "stderr",
     "output_type": "stream",
     "text": [
      "[nltk_data] Downloading package stopwords to\n",
      "[nltk_data]     C:\\Users\\tamji\\AppData\\Roaming\\nltk_data...\n",
      "[nltk_data]   Package stopwords is already up-to-date!\n"
     ]
    },
    {
     "data": {
      "text/plain": [
       "['i', 'me', 'my', 'myself', 'we', 'our', 'ours', 'ourselves']"
      ]
     },
     "execution_count": 9,
     "metadata": {},
     "output_type": "execute_result"
    }
   ],
   "source": [
    "nltk.download('stopwords')\n",
    "# Getting the English stop words from nltk\n",
    "sw = nltk.corpus.stopwords.words('english')\n",
    "\n",
    "sw[:8]"
   ]
  },
  {
   "cell_type": "markdown",
   "metadata": {},
   "source": [
    "## Remove stop words in Moby Dick\n",
    "<p>We now want to create a new list with all <code>words</code> in Moby Dick, except those that are stop words (that is, those words listed in <code>sw</code>).</p>"
   ]
  },
  {
   "cell_type": "code",
   "execution_count": 10,
   "metadata": {
    "ExecuteTime": {
     "end_time": "2021-09-18T14:46:56.254339Z",
     "start_time": "2021-09-18T14:46:55.968993Z"
    }
   },
   "outputs": [
    {
     "name": "stdout",
     "output_type": "stream",
     "text": [
      "word count before:\n",
      " 222624\n",
      "word count after:\n",
      " 113214\n",
      "\n",
      " First few words:  ['moby', 'dick', 'whale', 'herman', 'melville', 'project', 'gutenberg', 'ebook']\n"
     ]
    }
   ],
   "source": [
    "print('word count before:\\n', len(lowercase_words))\n",
    "\n",
    "sw_removed_words = []\n",
    "for word in lowercase_words:\n",
    "    if word not in sw:\n",
    "        sw_removed_words.append(word)\n",
    "print('word count after:\\n', len(sw_removed_words))\n",
    "print('\\n First few words: ', sw_removed_words[:8])\n",
    "# sw_removed_words[:8]"
   ]
  },
  {
   "cell_type": "markdown",
   "metadata": {},
   "source": [
    "# We have the answer\n",
    "<p>Our original question was:</p>\n",
    "<blockquote>\n",
    "  <p>What are the most frequent words in Herman Melville's novel Moby Dick and how often do they occur?</p>"
   ]
  },
  {
   "cell_type": "markdown",
   "metadata": {},
   "source": [
    "## with loop"
   ]
  },
  {
   "cell_type": "code",
   "execution_count": 11,
   "metadata": {
    "ExecuteTime": {
     "end_time": "2021-09-18T14:46:56.301320Z",
     "start_time": "2021-09-18T14:46:56.256314Z"
    }
   },
   "outputs": [],
   "source": [
    "temp_dict = {}\n",
    "for word in sw_removed_words:\n",
    "    if word not in temp_dict.keys():\n",
    "        temp_dict[word] = 1\n",
    "    else:\n",
    "        temp_dict[word] += 1\n",
    "# print(temp_dict,'\\n\\n')\n",
    "\n",
    "sorted_dict = {}\n",
    "sorted_keys = sorted(temp_dict, key=temp_dict.get, reverse=True)\n",
    "\n",
    "for w in sorted_keys:\n",
    "    sorted_dict[w] = temp_dict[w]\n",
    "# print(sorted_dict)"
   ]
  },
  {
   "cell_type": "code",
   "execution_count": 12,
   "metadata": {
    "ExecuteTime": {
     "end_time": "2021-09-18T14:46:57.355867Z",
     "start_time": "2021-09-18T14:46:56.303314Z"
    }
   },
   "outputs": [
    {
     "data": {
      "image/png": "[encoded data removed]",
      "text/plain": [
       "<Figure size 432x288 with 1 Axes>"
      ]
     },
     "metadata": {},
     "output_type": "display_data"
    }
   ],
   "source": [
    "df = pd.DataFrame([sorted_dict]).T#.reset_index()\n",
    "df[:25].plot(xticks=range(25), legend='')\n",
    "plt.xticks(rotation=90)\n",
    "plt.title('Most frequent words in Moby Dick')\n",
    "plt.show()"
   ]
  },
  {
   "cell_type": "markdown",
   "metadata": {},
   "source": [
    "## with counter"
   ]
  },
  {
   "cell_type": "code",
   "execution_count": 13,
   "metadata": {
    "ExecuteTime": {
     "end_time": "2021-09-18T14:46:57.386862Z",
     "start_time": "2021-09-18T14:46:57.356860Z"
    }
   },
   "outputs": [
    {
     "data": {
      "text/plain": [
       "[('whale', 1246),\n",
       " ('one', 925),\n",
       " ('like', 647),\n",
       " ('upon', 568),\n",
       " ('man', 527),\n",
       " ('ship', 519),\n",
       " ('ahab', 517),\n",
       " ('ye', 473),\n",
       " ('sea', 455),\n",
       " ('old', 452)]"
      ]
     },
     "execution_count": 13,
     "metadata": {},
     "output_type": "execute_result"
    }
   ],
   "source": [
    "# Initialize a Counter object from our processed list of words\n",
    "count = Counter(sw_removed_words)\n",
    "# Store 10 most common words and their counts as top_ten\n",
    "top_ten = count.most_common()[:10]\n",
    "# Print the top ten words and their counts\n",
    "top_ten"
   ]
  },
  {
   "cell_type": "code",
   "execution_count": 14,
   "metadata": {
    "ExecuteTime": {
     "end_time": "2021-09-18T14:46:57.545387Z",
     "start_time": "2021-09-18T14:46:57.387853Z"
    }
   },
   "outputs": [
    {
     "data": {
      "image/png": "[encoded data removed]",
      "text/plain": [
       "<Figure size 432x288 with 1 Axes>"
      ]
     },
     "metadata": {},
     "output_type": "display_data"
    }
   ],
   "source": [
    "# creating pandas dataframe\n",
    "top_ten_df = pd.DataFrame(top_ten,columns = ['word', 'count'])\n",
    "# plot\n",
    "sns.lineplot(x=\"word\",y='count',data=top_ten_df)\n",
    "plt.xticks(rotation=90)\n",
    "plt.title('Most frequent words in Moby Dick')\n",
    "plt.show()"
   ]
  },
  {
   "cell_type": "markdown",
   "metadata": {},
   "source": [
    "## with nltk"
   ]
  },
  {
   "cell_type": "code",
   "execution_count": 15,
   "metadata": {
    "ExecuteTime": {
     "end_time": "2021-09-18T14:46:57.829644Z",
     "start_time": "2021-09-18T14:46:57.547394Z"
    }
   },
   "outputs": [
    {
     "name": "stdout",
     "output_type": "stream",
     "text": [
      "<FreqDist with 17203 samples and 113214 outcomes>\n"
     ]
    },
    {
     "data": {
      "image/png": "[encoded data removed]",
      "text/plain": [
       "<Figure size 432x288 with 1 Axes>"
      ]
     },
     "metadata": {},
     "output_type": "display_data"
    }
   ],
   "source": [
    "freqdist = nltk.FreqDist(sw_removed_words)\n",
    "print(freqdist)\n",
    "freqdist.plot(25);"
   ]
  },
  {
   "cell_type": "code",
   "execution_count": 16,
   "metadata": {
    "ExecuteTime": {
     "end_time": "2021-09-18T14:46:58.883854Z",
     "start_time": "2021-09-18T14:46:57.831628Z"
    }
   },
   "outputs": [
    {
     "data": {
      "image/png": "[encoded data removed]",
      "text/plain": [
       "<Figure size 432x288 with 1 Axes>"
      ]
     },
     "metadata": {},
     "output_type": "display_data"
    }
   ],
   "source": [
    "nltk_df = pd.DataFrame([freqdist]).T.sort_values(0, ascending=False)\n",
    "nltk_df[:25].plot(xticks=range(25), legend= False, title='Most frequent words in Moby Dick')\n",
    "plt.xticks(rotation = 90)\n",
    "plt.show()"
   ]
  },
  {
   "cell_type": "markdown",
   "metadata": {},
   "source": [
    "# The most common word\n",
    "<p>Nice! Using our variable <code>top_ten</code>, we now have an answer to our original question.</p>\n",
    "<p>The natural language processing skills we used in this notebook are also applicable to much of the data that Data Scientists encounter as the vast proportion of the world's data is unstructured data and includes a great deal of text. </p>\n",
    "<p>So, what word turned out to (<em>not surprisingly</em>) be the most common word in Moby Dick?</p>"
   ]
  },
  {
   "cell_type": "code",
   "execution_count": 17,
   "metadata": {
    "ExecuteTime": {
     "end_time": "2021-09-18T14:46:58.899849Z",
     "start_time": "2021-09-18T14:46:58.885860Z"
    }
   },
   "outputs": [
    {
     "data": {
      "text/plain": [
       "'WHALE'"
      ]
     },
     "execution_count": 17,
     "metadata": {},
     "output_type": "execute_result"
    }
   ],
   "source": [
    "most_common_word = 'whale'\n",
    "most_common_word.upper()"
   ]
  }
 ],
 "metadata": {
  "kernelspec": {
   "display_name": "learn-env",
   "language": "python",
   "name": "learn-env"
  },
  "language_info": {
   "codemirror_mode": {
    "name": "ipython",
    "version": 3
   },
   "file_extension": ".py",
   "mimetype": "text/x-python",
   "name": "python",
   "nbconvert_exporter": "python",
   "pygments_lexer": "ipython3",
   "version": "3.8.5"
  },
  "toc": {
   "base_numbering": 1,
   "nav_menu": {},
   "number_sections": true,
   "sideBar": true,
   "skip_h1_title": false,
   "title_cell": "Table of Contents",
   "title_sidebar": "Contents",
   "toc_cell": false,
   "toc_position": {},
   "toc_section_display": true,
   "toc_window_display": true
  }
 },
 "nbformat": 4,
 "nbformat_minor": 4
}
